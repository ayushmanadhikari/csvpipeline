{
 "cells": [
  {
   "cell_type": "code",
   "execution_count": 16,
   "id": "61564931",
   "metadata": {},
   "outputs": [],
   "source": [
    "import pandas as pd"
   ]
  },
  {
   "cell_type": "code",
   "execution_count": 17,
   "id": "5fdb25a7",
   "metadata": {},
   "outputs": [],
   "source": [
    "#reading the csv file\n",
    "file = \"MOCK_DATA1.csv\"\n",
    "df = pd.read_csv(file)"
   ]
  },
  {
   "cell_type": "markdown",
   "id": "9d95cfd8",
   "metadata": {},
   "source": [
    "## Data cleaning"
   ]
  },
  {
   "cell_type": "code",
   "execution_count": 18,
   "id": "869e2458",
   "metadata": {},
   "outputs": [
    {
     "data": {
      "text/plain": [
       "id                0\n",
       "first_name        0\n",
       "last_name         0\n",
       "email           113\n",
       "gender           64\n",
       "ip_address        0\n",
       "Username        120\n",
       "Net               0\n",
       "Time(Months)      0\n",
       "Date              0\n",
       "dtype: int64"
      ]
     },
     "execution_count": 18,
     "metadata": {},
     "output_type": "execute_result"
    }
   ],
   "source": [
    "#checking which columns has null values\n",
    "df.isna().sum()\n",
    "#there are 3 columns with null values\n",
    "#columns email and username is mandatory, so we need to remove the rows with null values in those 2 columns\n",
    "#for gender column, we can substitute missing value with 'not disclosed'\n"
   ]
  },
  {
   "cell_type": "code",
   "execution_count": 19,
   "id": "f8553421",
   "metadata": {},
   "outputs": [],
   "source": [
    "#removing rows with null values in username and email columns\n",
    "df = df.dropna(subset=['Username'])\n",
    "df = df.dropna(subset=['email'])"
   ]
  },
  {
   "cell_type": "code",
   "execution_count": 21,
   "id": "952022f9",
   "metadata": {},
   "outputs": [
    {
     "data": {
      "text/plain": [
       "id               0\n",
       "first_name       0\n",
       "last_name        0\n",
       "email            0\n",
       "gender          49\n",
       "ip_address       0\n",
       "Username         0\n",
       "Net              0\n",
       "Time(Months)     0\n",
       "Date             0\n",
       "dtype: int64"
      ]
     },
     "execution_count": 21,
     "metadata": {},
     "output_type": "execute_result"
    }
   ],
   "source": [
    "df.isna().sum()\n",
    "#now we have removed all rows from the df that had null values in email and username columns\n",
    "#now for gender column"
   ]
  },
  {
   "cell_type": "code",
   "execution_count": 22,
   "id": "29a85b38",
   "metadata": {},
   "outputs": [
    {
     "data": {
      "text/plain": [
       "id              0\n",
       "first_name      0\n",
       "last_name       0\n",
       "email           0\n",
       "gender          0\n",
       "ip_address      0\n",
       "Username        0\n",
       "Net             0\n",
       "Time(Months)    0\n",
       "Date            0\n",
       "dtype: int64"
      ]
     },
     "execution_count": 22,
     "metadata": {},
     "output_type": "execute_result"
    }
   ],
   "source": [
    "df['gender'] = df['gender'].fillna(value='not disclosed')\n",
    "df.isna().sum()"
   ]
  },
  {
   "cell_type": "code",
   "execution_count": 23,
   "id": "486e3a8f",
   "metadata": {},
   "outputs": [
    {
     "data": {
      "text/plain": [
       "49"
      ]
     },
     "execution_count": 23,
     "metadata": {},
     "output_type": "execute_result"
    }
   ],
   "source": [
    "df[df['gender'] == 'not disclosed']['gender'].count()\n",
    "#we see that all 38 nulls rows have been replaced"
   ]
  },
  {
   "cell_type": "markdown",
   "id": "f8bd4d71",
   "metadata": {},
   "source": [
    "## Data Transformation"
   ]
  },
  {
   "cell_type": "code",
   "execution_count": 49,
   "id": "315eecc3",
   "metadata": {},
   "outputs": [],
   "source": [
    "#so now we have cleaned data with no missing fields\n",
    "#now we need to perform transformations"
   ]
  },
  {
   "cell_type": "code",
   "execution_count": 51,
   "id": "975eda09",
   "metadata": {},
   "outputs": [],
   "source": [
    "#adding new column 'average' for per month earning for each entry\n",
    "df['average'] = df['Net Worth']/df['Time(Months)']\n",
    "df['average'] = df['average'].round(2)"
   ]
  },
  {
   "cell_type": "markdown",
   "id": "0c5fcb83",
   "metadata": {},
   "source": [
    "##### Filtering"
   ]
  },
  {
   "cell_type": "code",
   "execution_count": 45,
   "id": "dde081bd",
   "metadata": {},
   "outputs": [
    {
     "data": {
      "text/html": [
       "<div>\n",
       "<style scoped>\n",
       "    .dataframe tbody tr th:only-of-type {\n",
       "        vertical-align: middle;\n",
       "    }\n",
       "\n",
       "    .dataframe tbody tr th {\n",
       "        vertical-align: top;\n",
       "    }\n",
       "\n",
       "    .dataframe thead th {\n",
       "        text-align: right;\n",
       "    }\n",
       "</style>\n",
       "<table border=\"1\" class=\"dataframe\">\n",
       "  <thead>\n",
       "    <tr style=\"text-align: right;\">\n",
       "      <th></th>\n",
       "      <th>id</th>\n",
       "      <th>first_name</th>\n",
       "      <th>last_name</th>\n",
       "      <th>email</th>\n",
       "      <th>gender</th>\n",
       "      <th>ip_address</th>\n",
       "      <th>Username</th>\n",
       "      <th>Net</th>\n",
       "      <th>Time(Months)</th>\n",
       "      <th>Date</th>\n",
       "      <th>average</th>\n",
       "    </tr>\n",
       "  </thead>\n",
       "  <tbody>\n",
       "    <tr>\n",
       "      <th>1</th>\n",
       "      <td>2</td>\n",
       "      <td>Derward</td>\n",
       "      <td>Chafer</td>\n",
       "      <td>dchafer1@multiply.com</td>\n",
       "      <td>Male</td>\n",
       "      <td>251.121.120.71</td>\n",
       "      <td>dchafer1</td>\n",
       "      <td>4270838</td>\n",
       "      <td>1</td>\n",
       "      <td>10/14/2022</td>\n",
       "      <td>4270838.0</td>\n",
       "    </tr>\n",
       "  </tbody>\n",
       "</table>\n",
       "</div>"
      ],
      "text/plain": [
       "   id first_name last_name                  email gender      ip_address  \\\n",
       "1   2    Derward    Chafer  dchafer1@multiply.com   Male  251.121.120.71   \n",
       "\n",
       "   Username      Net  Time(Months)        Date    average  \n",
       "1  dchafer1  4270838             1  10/14/2022  4270838.0  "
      ]
     },
     "execution_count": 45,
     "metadata": {},
     "output_type": "execute_result"
    }
   ],
   "source": [
    "df[df['Net'] == 4270838]\n",
    "df[df['id'] == 2]"
   ]
  },
  {
   "cell_type": "markdown",
   "id": "0176cfc0",
   "metadata": {},
   "source": [
    "##### Renaming "
   ]
  },
  {
   "cell_type": "code",
   "execution_count": 47,
   "id": "6fada931",
   "metadata": {},
   "outputs": [
    {
     "data": {
      "text/html": [
       "<div>\n",
       "<style scoped>\n",
       "    .dataframe tbody tr th:only-of-type {\n",
       "        vertical-align: middle;\n",
       "    }\n",
       "\n",
       "    .dataframe tbody tr th {\n",
       "        vertical-align: top;\n",
       "    }\n",
       "\n",
       "    .dataframe thead th {\n",
       "        text-align: right;\n",
       "    }\n",
       "</style>\n",
       "<table border=\"1\" class=\"dataframe\">\n",
       "  <thead>\n",
       "    <tr style=\"text-align: right;\">\n",
       "      <th></th>\n",
       "      <th>id</th>\n",
       "      <th>first_name</th>\n",
       "      <th>last_name</th>\n",
       "      <th>email</th>\n",
       "      <th>gender</th>\n",
       "      <th>ip_address</th>\n",
       "      <th>Username</th>\n",
       "      <th>Net Worth</th>\n",
       "      <th>Time(Months)</th>\n",
       "      <th>Date</th>\n",
       "      <th>average</th>\n",
       "    </tr>\n",
       "  </thead>\n",
       "  <tbody>\n",
       "    <tr>\n",
       "      <th>1</th>\n",
       "      <td>2</td>\n",
       "      <td>Derward</td>\n",
       "      <td>Chafer</td>\n",
       "      <td>dchafer1@multiply.com</td>\n",
       "      <td>Male</td>\n",
       "      <td>251.121.120.71</td>\n",
       "      <td>dchafer1</td>\n",
       "      <td>4270838</td>\n",
       "      <td>1</td>\n",
       "      <td>10/14/2022</td>\n",
       "      <td>4270838.0</td>\n",
       "    </tr>\n",
       "    <tr>\n",
       "      <th>2</th>\n",
       "      <td>3</td>\n",
       "      <td>Eddie</td>\n",
       "      <td>Halvosen</td>\n",
       "      <td>ehalvosen2@cpanel.net</td>\n",
       "      <td>Female</td>\n",
       "      <td>192.119.102.205</td>\n",
       "      <td>ehalvosen2</td>\n",
       "      <td>3225543</td>\n",
       "      <td>10</td>\n",
       "      <td>2/1/2022</td>\n",
       "      <td>322554.3</td>\n",
       "    </tr>\n",
       "  </tbody>\n",
       "</table>\n",
       "</div>"
      ],
      "text/plain": [
       "   id first_name last_name                  email  gender       ip_address  \\\n",
       "1   2    Derward    Chafer  dchafer1@multiply.com    Male   251.121.120.71   \n",
       "2   3      Eddie  Halvosen  ehalvosen2@cpanel.net  Female  192.119.102.205   \n",
       "\n",
       "     Username  Net Worth  Time(Months)        Date    average  \n",
       "1    dchafer1    4270838             1  10/14/2022  4270838.0  \n",
       "2  ehalvosen2    3225543            10    2/1/2022   322554.3  "
      ]
     },
     "execution_count": 47,
     "metadata": {},
     "output_type": "execute_result"
    }
   ],
   "source": [
    "df.rename(columns={'Net': 'Net Worth'}, inplace=True)\n",
    "df.head(2)"
   ]
  },
  {
   "cell_type": "markdown",
   "id": "84de3336",
   "metadata": {},
   "source": [
    "##### Dropping columns"
   ]
  },
  {
   "cell_type": "code",
   "execution_count": 56,
   "id": "0a82fc37",
   "metadata": {},
   "outputs": [
    {
     "data": {
      "text/html": [
       "<div>\n",
       "<style scoped>\n",
       "    .dataframe tbody tr th:only-of-type {\n",
       "        vertical-align: middle;\n",
       "    }\n",
       "\n",
       "    .dataframe tbody tr th {\n",
       "        vertical-align: top;\n",
       "    }\n",
       "\n",
       "    .dataframe thead th {\n",
       "        text-align: right;\n",
       "    }\n",
       "</style>\n",
       "<table border=\"1\" class=\"dataframe\">\n",
       "  <thead>\n",
       "    <tr style=\"text-align: right;\">\n",
       "      <th></th>\n",
       "      <th>id</th>\n",
       "      <th>first_name</th>\n",
       "      <th>last_name</th>\n",
       "      <th>email</th>\n",
       "      <th>gender</th>\n",
       "      <th>ip_address</th>\n",
       "      <th>Username</th>\n",
       "      <th>Net Worth</th>\n",
       "      <th>Time(Months)</th>\n",
       "      <th>Date</th>\n",
       "      <th>average</th>\n",
       "      <th>test</th>\n",
       "    </tr>\n",
       "  </thead>\n",
       "  <tbody>\n",
       "    <tr>\n",
       "      <th>1</th>\n",
       "      <td>2</td>\n",
       "      <td>Derward</td>\n",
       "      <td>Chafer</td>\n",
       "      <td>dchafer1@multiply.com</td>\n",
       "      <td>Male</td>\n",
       "      <td>251.121.120.71</td>\n",
       "      <td>dchafer1</td>\n",
       "      <td>4270838</td>\n",
       "      <td>1</td>\n",
       "      <td>10/14/2022</td>\n",
       "      <td>4270838.0</td>\n",
       "      <td>4260838</td>\n",
       "    </tr>\n",
       "  </tbody>\n",
       "</table>\n",
       "</div>"
      ],
      "text/plain": [
       "   id first_name last_name                  email gender      ip_address  \\\n",
       "1   2    Derward    Chafer  dchafer1@multiply.com   Male  251.121.120.71   \n",
       "\n",
       "   Username  Net Worth  Time(Months)        Date    average     test  \n",
       "1  dchafer1    4270838             1  10/14/2022  4270838.0  4260838  "
      ]
     },
     "execution_count": 56,
     "metadata": {},
     "output_type": "execute_result"
    }
   ],
   "source": [
    "#adding test column then dropping it\n",
    "df['test'] = df['Net Worth'] - 10000\n",
    "df.head(1)"
   ]
  },
  {
   "cell_type": "code",
   "execution_count": 54,
   "id": "24b87c4b",
   "metadata": {},
   "outputs": [
    {
     "data": {
      "text/html": [
       "<div>\n",
       "<style scoped>\n",
       "    .dataframe tbody tr th:only-of-type {\n",
       "        vertical-align: middle;\n",
       "    }\n",
       "\n",
       "    .dataframe tbody tr th {\n",
       "        vertical-align: top;\n",
       "    }\n",
       "\n",
       "    .dataframe thead th {\n",
       "        text-align: right;\n",
       "    }\n",
       "</style>\n",
       "<table border=\"1\" class=\"dataframe\">\n",
       "  <thead>\n",
       "    <tr style=\"text-align: right;\">\n",
       "      <th></th>\n",
       "      <th>id</th>\n",
       "      <th>first_name</th>\n",
       "      <th>last_name</th>\n",
       "      <th>email</th>\n",
       "      <th>gender</th>\n",
       "      <th>ip_address</th>\n",
       "      <th>Username</th>\n",
       "      <th>Net Worth</th>\n",
       "      <th>Time(Months)</th>\n",
       "      <th>Date</th>\n",
       "      <th>average</th>\n",
       "    </tr>\n",
       "  </thead>\n",
       "  <tbody>\n",
       "    <tr>\n",
       "      <th>1</th>\n",
       "      <td>2</td>\n",
       "      <td>Derward</td>\n",
       "      <td>Chafer</td>\n",
       "      <td>dchafer1@multiply.com</td>\n",
       "      <td>Male</td>\n",
       "      <td>251.121.120.71</td>\n",
       "      <td>dchafer1</td>\n",
       "      <td>4270838</td>\n",
       "      <td>1</td>\n",
       "      <td>10/14/2022</td>\n",
       "      <td>4270838.0</td>\n",
       "    </tr>\n",
       "    <tr>\n",
       "      <th>2</th>\n",
       "      <td>3</td>\n",
       "      <td>Eddie</td>\n",
       "      <td>Halvosen</td>\n",
       "      <td>ehalvosen2@cpanel.net</td>\n",
       "      <td>Female</td>\n",
       "      <td>192.119.102.205</td>\n",
       "      <td>ehalvosen2</td>\n",
       "      <td>3225543</td>\n",
       "      <td>10</td>\n",
       "      <td>2/1/2022</td>\n",
       "      <td>322554.3</td>\n",
       "    </tr>\n",
       "  </tbody>\n",
       "</table>\n",
       "</div>"
      ],
      "text/plain": [
       "   id first_name last_name                  email  gender       ip_address  \\\n",
       "1   2    Derward    Chafer  dchafer1@multiply.com    Male   251.121.120.71   \n",
       "2   3      Eddie  Halvosen  ehalvosen2@cpanel.net  Female  192.119.102.205   \n",
       "\n",
       "     Username  Net Worth  Time(Months)        Date    average  \n",
       "1    dchafer1    4270838             1  10/14/2022  4270838.0  \n",
       "2  ehalvosen2    3225543            10    2/1/2022   322554.3  "
      ]
     },
     "execution_count": 54,
     "metadata": {},
     "output_type": "execute_result"
    }
   ],
   "source": [
    "df.drop(columns=['test'], inplace=True)\n",
    "df.head(2)"
   ]
  },
  {
   "cell_type": "markdown",
   "id": "ac3a39b0",
   "metadata": {},
   "source": [
    "##### Sorting"
   ]
  },
  {
   "cell_type": "code",
   "execution_count": 59,
   "id": "eb78d2ef",
   "metadata": {},
   "outputs": [
    {
     "data": {
      "text/html": [
       "<div>\n",
       "<style scoped>\n",
       "    .dataframe tbody tr th:only-of-type {\n",
       "        vertical-align: middle;\n",
       "    }\n",
       "\n",
       "    .dataframe tbody tr th {\n",
       "        vertical-align: top;\n",
       "    }\n",
       "\n",
       "    .dataframe thead th {\n",
       "        text-align: right;\n",
       "    }\n",
       "</style>\n",
       "<table border=\"1\" class=\"dataframe\">\n",
       "  <thead>\n",
       "    <tr style=\"text-align: right;\">\n",
       "      <th></th>\n",
       "      <th>id</th>\n",
       "      <th>first_name</th>\n",
       "      <th>last_name</th>\n",
       "      <th>email</th>\n",
       "      <th>gender</th>\n",
       "      <th>ip_address</th>\n",
       "      <th>Username</th>\n",
       "      <th>Net Worth</th>\n",
       "      <th>Time(Months)</th>\n",
       "      <th>Date</th>\n",
       "      <th>average</th>\n",
       "      <th>test</th>\n",
       "    </tr>\n",
       "  </thead>\n",
       "  <tbody>\n",
       "    <tr>\n",
       "      <th>872</th>\n",
       "      <td>873</td>\n",
       "      <td>Elvira</td>\n",
       "      <td>Alpine</td>\n",
       "      <td>ealpineo8@earthlink.net</td>\n",
       "      <td>Female</td>\n",
       "      <td>82.132.249.49</td>\n",
       "      <td>ealpineo8</td>\n",
       "      <td>9985375</td>\n",
       "      <td>6</td>\n",
       "      <td>11/1/2022</td>\n",
       "      <td>1664229.17</td>\n",
       "      <td>9975375</td>\n",
       "    </tr>\n",
       "    <tr>\n",
       "      <th>518</th>\n",
       "      <td>519</td>\n",
       "      <td>Claudette</td>\n",
       "      <td>Elies</td>\n",
       "      <td>celiesee@ask.com</td>\n",
       "      <td>Female</td>\n",
       "      <td>95.218.26.111</td>\n",
       "      <td>celiesee</td>\n",
       "      <td>9965641</td>\n",
       "      <td>9</td>\n",
       "      <td>4/3/2022</td>\n",
       "      <td>1107293.44</td>\n",
       "      <td>9955641</td>\n",
       "    </tr>\n",
       "    <tr>\n",
       "      <th>964</th>\n",
       "      <td>965</td>\n",
       "      <td>Faber</td>\n",
       "      <td>Voak</td>\n",
       "      <td>fvoakqs@purevolume.com</td>\n",
       "      <td>Male</td>\n",
       "      <td>223.141.237.216</td>\n",
       "      <td>fvoakqs</td>\n",
       "      <td>9925163</td>\n",
       "      <td>3</td>\n",
       "      <td>11/11/2022</td>\n",
       "      <td>3308387.67</td>\n",
       "      <td>9915163</td>\n",
       "    </tr>\n",
       "    <tr>\n",
       "      <th>566</th>\n",
       "      <td>567</td>\n",
       "      <td>Mickie</td>\n",
       "      <td>Hayes</td>\n",
       "      <td>mhayesfq@google.de</td>\n",
       "      <td>Male</td>\n",
       "      <td>1.173.85.222</td>\n",
       "      <td>mhayesfq</td>\n",
       "      <td>9901272</td>\n",
       "      <td>9</td>\n",
       "      <td>3/22/2022</td>\n",
       "      <td>1100141.33</td>\n",
       "      <td>9891272</td>\n",
       "    </tr>\n",
       "    <tr>\n",
       "      <th>637</th>\n",
       "      <td>638</td>\n",
       "      <td>Freeman</td>\n",
       "      <td>Snowdon</td>\n",
       "      <td>fsnowdonhp@yolasite.com</td>\n",
       "      <td>Male</td>\n",
       "      <td>110.225.228.43</td>\n",
       "      <td>fsnowdonhp</td>\n",
       "      <td>9888151</td>\n",
       "      <td>6</td>\n",
       "      <td>4/29/2022</td>\n",
       "      <td>1648025.17</td>\n",
       "      <td>9878151</td>\n",
       "    </tr>\n",
       "  </tbody>\n",
       "</table>\n",
       "</div>"
      ],
      "text/plain": [
       "      id first_name last_name                    email  gender  \\\n",
       "872  873     Elvira    Alpine  ealpineo8@earthlink.net  Female   \n",
       "518  519  Claudette     Elies         celiesee@ask.com  Female   \n",
       "964  965      Faber      Voak   fvoakqs@purevolume.com    Male   \n",
       "566  567     Mickie     Hayes       mhayesfq@google.de    Male   \n",
       "637  638    Freeman   Snowdon  fsnowdonhp@yolasite.com    Male   \n",
       "\n",
       "          ip_address    Username  Net Worth  Time(Months)        Date  \\\n",
       "872    82.132.249.49   ealpineo8    9985375             6   11/1/2022   \n",
       "518    95.218.26.111    celiesee    9965641             9    4/3/2022   \n",
       "964  223.141.237.216     fvoakqs    9925163             3  11/11/2022   \n",
       "566     1.173.85.222    mhayesfq    9901272             9   3/22/2022   \n",
       "637   110.225.228.43  fsnowdonhp    9888151             6   4/29/2022   \n",
       "\n",
       "        average     test  \n",
       "872  1664229.17  9975375  \n",
       "518  1107293.44  9955641  \n",
       "964  3308387.67  9915163  \n",
       "566  1100141.33  9891272  \n",
       "637  1648025.17  9878151  "
      ]
     },
     "execution_count": 59,
     "metadata": {},
     "output_type": "execute_result"
    }
   ],
   "source": [
    "df.sort_values(by='Net Worth', ascending=False, inplace=False).head(5)"
   ]
  },
  {
   "cell_type": "markdown",
   "id": "71762b65",
   "metadata": {},
   "source": [
    "##### Grouping"
   ]
  },
  {
   "cell_type": "code",
   "execution_count": 63,
   "id": "03cd69ea",
   "metadata": {},
   "outputs": [
    {
     "data": {
      "text/html": [
       "<div>\n",
       "<style scoped>\n",
       "    .dataframe tbody tr th:only-of-type {\n",
       "        vertical-align: middle;\n",
       "    }\n",
       "\n",
       "    .dataframe tbody tr th {\n",
       "        vertical-align: top;\n",
       "    }\n",
       "\n",
       "    .dataframe thead th {\n",
       "        text-align: right;\n",
       "    }\n",
       "</style>\n",
       "<table border=\"1\" class=\"dataframe\">\n",
       "  <thead>\n",
       "    <tr style=\"text-align: right;\">\n",
       "      <th></th>\n",
       "      <th>id</th>\n",
       "      <th>first_name</th>\n",
       "      <th>last_name</th>\n",
       "      <th>email</th>\n",
       "      <th>ip_address</th>\n",
       "      <th>Username</th>\n",
       "      <th>Net Worth</th>\n",
       "      <th>Time(Months)</th>\n",
       "      <th>Date</th>\n",
       "      <th>average</th>\n",
       "      <th>test</th>\n",
       "    </tr>\n",
       "    <tr>\n",
       "      <th>gender</th>\n",
       "      <th></th>\n",
       "      <th></th>\n",
       "      <th></th>\n",
       "      <th></th>\n",
       "      <th></th>\n",
       "      <th></th>\n",
       "      <th></th>\n",
       "      <th></th>\n",
       "      <th></th>\n",
       "      <th></th>\n",
       "      <th></th>\n",
       "    </tr>\n",
       "  </thead>\n",
       "  <tbody>\n",
       "    <tr>\n",
       "      <th>Agender</th>\n",
       "      <td>15</td>\n",
       "      <td>15</td>\n",
       "      <td>15</td>\n",
       "      <td>15</td>\n",
       "      <td>15</td>\n",
       "      <td>15</td>\n",
       "      <td>15</td>\n",
       "      <td>15</td>\n",
       "      <td>15</td>\n",
       "      <td>15</td>\n",
       "      <td>15</td>\n",
       "    </tr>\n",
       "    <tr>\n",
       "      <th>Bigender</th>\n",
       "      <td>15</td>\n",
       "      <td>15</td>\n",
       "      <td>15</td>\n",
       "      <td>15</td>\n",
       "      <td>15</td>\n",
       "      <td>15</td>\n",
       "      <td>15</td>\n",
       "      <td>15</td>\n",
       "      <td>15</td>\n",
       "      <td>15</td>\n",
       "      <td>15</td>\n",
       "    </tr>\n",
       "    <tr>\n",
       "      <th>Female</th>\n",
       "      <td>298</td>\n",
       "      <td>298</td>\n",
       "      <td>298</td>\n",
       "      <td>298</td>\n",
       "      <td>298</td>\n",
       "      <td>298</td>\n",
       "      <td>298</td>\n",
       "      <td>298</td>\n",
       "      <td>298</td>\n",
       "      <td>298</td>\n",
       "      <td>298</td>\n",
       "    </tr>\n",
       "    <tr>\n",
       "      <th>Genderfluid</th>\n",
       "      <td>11</td>\n",
       "      <td>11</td>\n",
       "      <td>11</td>\n",
       "      <td>11</td>\n",
       "      <td>11</td>\n",
       "      <td>11</td>\n",
       "      <td>11</td>\n",
       "      <td>11</td>\n",
       "      <td>11</td>\n",
       "      <td>11</td>\n",
       "      <td>11</td>\n",
       "    </tr>\n",
       "    <tr>\n",
       "      <th>Genderqueer</th>\n",
       "      <td>12</td>\n",
       "      <td>12</td>\n",
       "      <td>12</td>\n",
       "      <td>12</td>\n",
       "      <td>12</td>\n",
       "      <td>12</td>\n",
       "      <td>12</td>\n",
       "      <td>12</td>\n",
       "      <td>12</td>\n",
       "      <td>12</td>\n",
       "      <td>12</td>\n",
       "    </tr>\n",
       "    <tr>\n",
       "      <th>Male</th>\n",
       "      <td>353</td>\n",
       "      <td>353</td>\n",
       "      <td>353</td>\n",
       "      <td>353</td>\n",
       "      <td>353</td>\n",
       "      <td>353</td>\n",
       "      <td>353</td>\n",
       "      <td>353</td>\n",
       "      <td>353</td>\n",
       "      <td>353</td>\n",
       "      <td>353</td>\n",
       "    </tr>\n",
       "    <tr>\n",
       "      <th>Non-binary</th>\n",
       "      <td>11</td>\n",
       "      <td>11</td>\n",
       "      <td>11</td>\n",
       "      <td>11</td>\n",
       "      <td>11</td>\n",
       "      <td>11</td>\n",
       "      <td>11</td>\n",
       "      <td>11</td>\n",
       "      <td>11</td>\n",
       "      <td>11</td>\n",
       "      <td>11</td>\n",
       "    </tr>\n",
       "    <tr>\n",
       "      <th>Polygender</th>\n",
       "      <td>13</td>\n",
       "      <td>13</td>\n",
       "      <td>13</td>\n",
       "      <td>13</td>\n",
       "      <td>13</td>\n",
       "      <td>13</td>\n",
       "      <td>13</td>\n",
       "      <td>13</td>\n",
       "      <td>13</td>\n",
       "      <td>13</td>\n",
       "      <td>13</td>\n",
       "    </tr>\n",
       "    <tr>\n",
       "      <th>not disclosed</th>\n",
       "      <td>49</td>\n",
       "      <td>49</td>\n",
       "      <td>49</td>\n",
       "      <td>49</td>\n",
       "      <td>49</td>\n",
       "      <td>49</td>\n",
       "      <td>49</td>\n",
       "      <td>49</td>\n",
       "      <td>49</td>\n",
       "      <td>49</td>\n",
       "      <td>49</td>\n",
       "    </tr>\n",
       "  </tbody>\n",
       "</table>\n",
       "</div>"
      ],
      "text/plain": [
       "                id  first_name  last_name  email  ip_address  Username  \\\n",
       "gender                                                                   \n",
       "Agender         15          15         15     15          15        15   \n",
       "Bigender        15          15         15     15          15        15   \n",
       "Female         298         298        298    298         298       298   \n",
       "Genderfluid     11          11         11     11          11        11   \n",
       "Genderqueer     12          12         12     12          12        12   \n",
       "Male           353         353        353    353         353       353   \n",
       "Non-binary      11          11         11     11          11        11   \n",
       "Polygender      13          13         13     13          13        13   \n",
       "not disclosed   49          49         49     49          49        49   \n",
       "\n",
       "               Net Worth  Time(Months)  Date  average  test  \n",
       "gender                                                       \n",
       "Agender               15            15    15       15    15  \n",
       "Bigender              15            15    15       15    15  \n",
       "Female               298           298   298      298   298  \n",
       "Genderfluid           11            11    11       11    11  \n",
       "Genderqueer           12            12    12       12    12  \n",
       "Male                 353           353   353      353   353  \n",
       "Non-binary            11            11    11       11    11  \n",
       "Polygender            13            13    13       13    13  \n",
       "not disclosed         49            49    49       49    49  "
      ]
     },
     "execution_count": 63,
     "metadata": {},
     "output_type": "execute_result"
    }
   ],
   "source": [
    "grouped_df = df.groupby('gender').count()\n",
    "grouped_df"
   ]
  },
  {
   "cell_type": "markdown",
   "id": "ceda1029",
   "metadata": {},
   "source": [
    "##### Replacing "
   ]
  },
  {
   "cell_type": "code",
   "execution_count": 64,
   "id": "9242ecb7",
   "metadata": {},
   "outputs": [
    {
     "data": {
      "text/html": [
       "<div>\n",
       "<style scoped>\n",
       "    .dataframe tbody tr th:only-of-type {\n",
       "        vertical-align: middle;\n",
       "    }\n",
       "\n",
       "    .dataframe tbody tr th {\n",
       "        vertical-align: top;\n",
       "    }\n",
       "\n",
       "    .dataframe thead th {\n",
       "        text-align: right;\n",
       "    }\n",
       "</style>\n",
       "<table border=\"1\" class=\"dataframe\">\n",
       "  <thead>\n",
       "    <tr style=\"text-align: right;\">\n",
       "      <th></th>\n",
       "      <th>id</th>\n",
       "      <th>first_name</th>\n",
       "      <th>last_name</th>\n",
       "      <th>email</th>\n",
       "      <th>gender</th>\n",
       "      <th>ip_address</th>\n",
       "      <th>Username</th>\n",
       "      <th>Net Worth</th>\n",
       "      <th>Time(Months)</th>\n",
       "      <th>Date</th>\n",
       "      <th>average</th>\n",
       "      <th>test</th>\n",
       "    </tr>\n",
       "  </thead>\n",
       "  <tbody>\n",
       "    <tr>\n",
       "      <th>1</th>\n",
       "      <td>2</td>\n",
       "      <td>Derward</td>\n",
       "      <td>Chafer</td>\n",
       "      <td>dchafer1@multiply.com</td>\n",
       "      <td>M</td>\n",
       "      <td>251.121.120.71</td>\n",
       "      <td>dchafer1</td>\n",
       "      <td>4270838</td>\n",
       "      <td>1</td>\n",
       "      <td>10/14/2022</td>\n",
       "      <td>4270838.0</td>\n",
       "      <td>4260838</td>\n",
       "    </tr>\n",
       "    <tr>\n",
       "      <th>2</th>\n",
       "      <td>3</td>\n",
       "      <td>Eddie</td>\n",
       "      <td>Halvosen</td>\n",
       "      <td>ehalvosen2@cpanel.net</td>\n",
       "      <td>F</td>\n",
       "      <td>192.119.102.205</td>\n",
       "      <td>ehalvosen2</td>\n",
       "      <td>3225543</td>\n",
       "      <td>10</td>\n",
       "      <td>2/1/2022</td>\n",
       "      <td>322554.3</td>\n",
       "      <td>3215543</td>\n",
       "    </tr>\n",
       "  </tbody>\n",
       "</table>\n",
       "</div>"
      ],
      "text/plain": [
       "   id first_name last_name                  email gender       ip_address  \\\n",
       "1   2    Derward    Chafer  dchafer1@multiply.com      M   251.121.120.71   \n",
       "2   3      Eddie  Halvosen  ehalvosen2@cpanel.net      F  192.119.102.205   \n",
       "\n",
       "     Username  Net Worth  Time(Months)        Date    average     test  \n",
       "1    dchafer1    4270838             1  10/14/2022  4270838.0  4260838  \n",
       "2  ehalvosen2    3225543            10    2/1/2022   322554.3  3215543  "
      ]
     },
     "execution_count": 64,
     "metadata": {},
     "output_type": "execute_result"
    }
   ],
   "source": [
    "df['gender'].replace('Female', 'F', inplace=True)\n",
    "df['gender'].replace('Male', 'M', inplace=True)\n",
    "df.head(2)"
   ]
  },
  {
   "cell_type": "markdown",
   "id": "34cd522f",
   "metadata": {},
   "source": [
    "## Exporting to SQL(database)"
   ]
  },
  {
   "cell_type": "code",
   "execution_count": 65,
   "id": "49b4704c",
   "metadata": {},
   "outputs": [],
   "source": [
    "import sqlite3"
   ]
  },
  {
   "cell_type": "code",
   "execution_count": 66,
   "id": "61bef33d",
   "metadata": {},
   "outputs": [],
   "source": [
    "#creating database connection\n",
    "conn = sqlite3.connect('test_database')\n",
    "#creating a cursor object which is used to perform any and all operations on the DB\n",
    "c = conn.cursor()"
   ]
  },
  {
   "cell_type": "code",
   "execution_count": 75,
   "id": "fa861e44",
   "metadata": {},
   "outputs": [],
   "source": [
    "cols = df.columns\n",
    "c.execute(\"CREATE TABLE IF NOT EXISTS test_table(cols)\")\n",
    "conn.commit()"
   ]
  },
  {
   "cell_type": "code",
   "execution_count": 76,
   "id": "5fcfce3f",
   "metadata": {},
   "outputs": [
    {
     "data": {
      "text/plain": [
       "777"
      ]
     },
     "execution_count": 76,
     "metadata": {},
     "output_type": "execute_result"
    }
   ],
   "source": [
    "df.to_sql('test_table', conn, if_exists='replace', index=False)"
   ]
  },
  {
   "cell_type": "code",
   "execution_count": 77,
   "id": "21caa287",
   "metadata": {},
   "outputs": [
    {
     "data": {
      "text/plain": [
       "<sqlite3.Cursor at 0x12b08e340>"
      ]
     },
     "execution_count": 77,
     "metadata": {},
     "output_type": "execute_result"
    }
   ],
   "source": [
    "c.execute(\"select * from test_table\")"
   ]
  },
  {
   "cell_type": "code",
   "execution_count": 83,
   "id": "d2b21e37",
   "metadata": {},
   "outputs": [
    {
     "data": {
      "text/plain": [
       "id              777\n",
       "first_name      777\n",
       "last_name       777\n",
       "email           777\n",
       "gender          777\n",
       "ip_address      777\n",
       "Username        777\n",
       "Net Worth       777\n",
       "Time(Months)    777\n",
       "Date            777\n",
       "average         777\n",
       "test            777\n",
       "dtype: int64"
      ]
     },
     "execution_count": 83,
     "metadata": {},
     "output_type": "execute_result"
    }
   ],
   "source": [
    "data_sql = pd.read_sql(\"select * from test_table\", conn)\n",
    "data_sql.count()"
   ]
  },
  {
   "cell_type": "code",
   "execution_count": null,
   "id": "b5b396ca",
   "metadata": {},
   "outputs": [],
   "source": []
  }
 ],
 "metadata": {
  "kernelspec": {
   "display_name": "Python 3 (ipykernel)",
   "language": "python",
   "name": "python3"
  },
  "language_info": {
   "codemirror_mode": {
    "name": "ipython",
    "version": 3
   },
   "file_extension": ".py",
   "mimetype": "text/x-python",
   "name": "python",
   "nbconvert_exporter": "python",
   "pygments_lexer": "ipython3",
   "version": "3.9.13"
  }
 },
 "nbformat": 4,
 "nbformat_minor": 5
}
